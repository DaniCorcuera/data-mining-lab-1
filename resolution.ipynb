{
 "metadata": {
  "language_info": {
   "codemirror_mode": {
    "name": "ipython",
    "version": 3
   },
   "file_extension": ".py",
   "mimetype": "text/x-python",
   "name": "python",
   "nbconvert_exporter": "python",
   "pygments_lexer": "ipython3",
   "version": "3.9.5"
  },
  "orig_nbformat": 2,
  "kernelspec": {
   "name": "python395jvsc74a57bd0a0d6d30e6cba6c3469f47c502e9a680a9ce150c770d4df523cf4680fbbb4f77e",
   "display_name": "Python 3.9.5 64-bit ('.venv')"
  },
  "metadata": {
   "interpreter": {
    "hash": "a0d6d30e6cba6c3469f47c502e9a680a9ce150c770d4df523cf4680fbbb4f77e"
   }
  }
 },
 "nbformat": 4,
 "nbformat_minor": 2,
 "cells": [
  {
   "cell_type": "code",
   "execution_count": 1,
   "metadata": {},
   "outputs": [],
   "source": [
    "import os\n",
    "import pandas as pd\n",
    "import numpy as np"
   ]
  },
  {
   "source": [
    "# 1. Recopilación de información de archivos\n",
    "Usamos la función os.walk para que este genere los nombres en un arbol de directorios "
   ],
   "cell_type": "markdown",
   "metadata": {}
  },
  {
   "cell_type": "code",
   "execution_count": 4,
   "metadata": {},
   "outputs": [
    {
     "output_type": "execute_result",
     "data": {
      "text/plain": [
       "{'.\\\\assets\\\\VT051101.xls': 'VT051101',\n",
       " '.\\\\assets\\\\VT051102.xls': 'VT051102',\n",
       " '.\\\\assets\\\\VT051103.xls': 'VT051103',\n",
       " '.\\\\assets\\\\VT051104.xls': 'VT051104',\n",
       " '.\\\\assets\\\\VT051105.xls': 'VT051105'}"
      ]
     },
     "metadata": {},
     "execution_count": 4
    }
   ],
   "source": [
    "root_dir = '.\\\\assets'\n",
    "\n",
    "routes = {}\n",
    "\n",
    "for sub_dir, dirs, files in os.walk(root_dir):\n",
    "    for file in files:\n",
    "        file_path = sub_dir + os.sep + file\n",
    "\n",
    "        # Prevent open temporal files\n",
    "        if file_path.endswith(\".xls\") and not file.startswith(\"~$\"):\n",
    "            routes[file_path] = file.replace(\".xls\", \"\")\n",
    "\n",
    "\n",
    "\n",
    "routes"
   ]
  },
  {
   "cell_type": "code",
   "execution_count": 5,
   "metadata": {},
   "outputs": [
    {
     "output_type": "stream",
     "name": "stdout",
     "text": [
      "VT051101\n",
      "VT051102\n",
      "VT051103\n",
      "VT051104\n",
      "VT051105\n"
     ]
    },
    {
     "output_type": "execute_result",
     "data": {
      "text/plain": [
       "         Fecha 1    Fecha 2      Hora  Sala  Caja  N_correlativo  N_boleta  \\\n",
       "0     2005-11-01 2005-12-30  09:51:00     9     1              1         0   \n",
       "1     2005-11-01 2005-12-30  09:51:00     9     1              1         0   \n",
       "2     2005-11-01 2005-12-30  09:51:00     9     1              1         0   \n",
       "3     2005-11-01 2005-12-30  09:51:00     9     1              1         0   \n",
       "4     2005-11-01 2005-12-30  09:51:00     9     1              1         0   \n",
       "...          ...        ...       ...   ...   ...            ...       ...   \n",
       "28900 2005-11-01 2005-12-30  20:57:00     9    21            323    264878   \n",
       "28901 2005-11-01 2005-12-30  20:59:00     9    21            324    264879   \n",
       "28902 2005-11-01 2005-12-30  20:59:00     9    21            324    264879   \n",
       "28903 2005-11-01 2005-12-30  21:02:00     9    21            325    264880   \n",
       "28904 2005-11-01 2005-12-30  21:02:00     9    21            325    264880   \n",
       "\n",
       "      Ingreso_Egreso         Ean13 Cantidad  Gramaje Monto  \n",
       "0                  N  780295050254       32        0  3168  \n",
       "1                  N  780295050255       10        0   990  \n",
       "2                  N        550706        0      502   801  \n",
       "3                  N        550706        0      538   859  \n",
       "4                  N  780281000337        3        0   882  \n",
       "...              ...           ...      ...      ...   ...  \n",
       "28900              N        645158        0     1000  2498  \n",
       "28901              N        645160        0     1000   658  \n",
       "28902              N        645791        0     1000   499  \n",
       "28903              N        645158        0     1000  2498  \n",
       "28904              N        645588        0     1000   499  \n",
       "\n",
       "[28905 rows x 12 columns]"
      ],
      "text/html": "<div>\n<style scoped>\n    .dataframe tbody tr th:only-of-type {\n        vertical-align: middle;\n    }\n\n    .dataframe tbody tr th {\n        vertical-align: top;\n    }\n\n    .dataframe thead th {\n        text-align: right;\n    }\n</style>\n<table border=\"1\" class=\"dataframe\">\n  <thead>\n    <tr style=\"text-align: right;\">\n      <th></th>\n      <th>Fecha 1</th>\n      <th>Fecha 2</th>\n      <th>Hora</th>\n      <th>Sala</th>\n      <th>Caja</th>\n      <th>N_correlativo</th>\n      <th>N_boleta</th>\n      <th>Ingreso_Egreso</th>\n      <th>Ean13</th>\n      <th>Cantidad</th>\n      <th>Gramaje</th>\n      <th>Monto</th>\n    </tr>\n  </thead>\n  <tbody>\n    <tr>\n      <th>0</th>\n      <td>2005-11-01</td>\n      <td>2005-12-30</td>\n      <td>09:51:00</td>\n      <td>9</td>\n      <td>1</td>\n      <td>1</td>\n      <td>0</td>\n      <td>N</td>\n      <td>780295050254</td>\n      <td>32</td>\n      <td>0</td>\n      <td>3168</td>\n    </tr>\n    <tr>\n      <th>1</th>\n      <td>2005-11-01</td>\n      <td>2005-12-30</td>\n      <td>09:51:00</td>\n      <td>9</td>\n      <td>1</td>\n      <td>1</td>\n      <td>0</td>\n      <td>N</td>\n      <td>780295050255</td>\n      <td>10</td>\n      <td>0</td>\n      <td>990</td>\n    </tr>\n    <tr>\n      <th>2</th>\n      <td>2005-11-01</td>\n      <td>2005-12-30</td>\n      <td>09:51:00</td>\n      <td>9</td>\n      <td>1</td>\n      <td>1</td>\n      <td>0</td>\n      <td>N</td>\n      <td>550706</td>\n      <td>0</td>\n      <td>502</td>\n      <td>801</td>\n    </tr>\n    <tr>\n      <th>3</th>\n      <td>2005-11-01</td>\n      <td>2005-12-30</td>\n      <td>09:51:00</td>\n      <td>9</td>\n      <td>1</td>\n      <td>1</td>\n      <td>0</td>\n      <td>N</td>\n      <td>550706</td>\n      <td>0</td>\n      <td>538</td>\n      <td>859</td>\n    </tr>\n    <tr>\n      <th>4</th>\n      <td>2005-11-01</td>\n      <td>2005-12-30</td>\n      <td>09:51:00</td>\n      <td>9</td>\n      <td>1</td>\n      <td>1</td>\n      <td>0</td>\n      <td>N</td>\n      <td>780281000337</td>\n      <td>3</td>\n      <td>0</td>\n      <td>882</td>\n    </tr>\n    <tr>\n      <th>...</th>\n      <td>...</td>\n      <td>...</td>\n      <td>...</td>\n      <td>...</td>\n      <td>...</td>\n      <td>...</td>\n      <td>...</td>\n      <td>...</td>\n      <td>...</td>\n      <td>...</td>\n      <td>...</td>\n      <td>...</td>\n    </tr>\n    <tr>\n      <th>28900</th>\n      <td>2005-11-01</td>\n      <td>2005-12-30</td>\n      <td>20:57:00</td>\n      <td>9</td>\n      <td>21</td>\n      <td>323</td>\n      <td>264878</td>\n      <td>N</td>\n      <td>645158</td>\n      <td>0</td>\n      <td>1000</td>\n      <td>2498</td>\n    </tr>\n    <tr>\n      <th>28901</th>\n      <td>2005-11-01</td>\n      <td>2005-12-30</td>\n      <td>20:59:00</td>\n      <td>9</td>\n      <td>21</td>\n      <td>324</td>\n      <td>264879</td>\n      <td>N</td>\n      <td>645160</td>\n      <td>0</td>\n      <td>1000</td>\n      <td>658</td>\n    </tr>\n    <tr>\n      <th>28902</th>\n      <td>2005-11-01</td>\n      <td>2005-12-30</td>\n      <td>20:59:00</td>\n      <td>9</td>\n      <td>21</td>\n      <td>324</td>\n      <td>264879</td>\n      <td>N</td>\n      <td>645791</td>\n      <td>0</td>\n      <td>1000</td>\n      <td>499</td>\n    </tr>\n    <tr>\n      <th>28903</th>\n      <td>2005-11-01</td>\n      <td>2005-12-30</td>\n      <td>21:02:00</td>\n      <td>9</td>\n      <td>21</td>\n      <td>325</td>\n      <td>264880</td>\n      <td>N</td>\n      <td>645158</td>\n      <td>0</td>\n      <td>1000</td>\n      <td>2498</td>\n    </tr>\n    <tr>\n      <th>28904</th>\n      <td>2005-11-01</td>\n      <td>2005-12-30</td>\n      <td>21:02:00</td>\n      <td>9</td>\n      <td>21</td>\n      <td>325</td>\n      <td>264880</td>\n      <td>N</td>\n      <td>645588</td>\n      <td>0</td>\n      <td>1000</td>\n      <td>499</td>\n    </tr>\n  </tbody>\n</table>\n<p>28905 rows × 12 columns</p>\n</div>"
     },
     "metadata": {},
     "execution_count": 5
    }
   ],
   "source": [
    "dataframes = {}\n",
    "\n",
    "for path, file_name in routes.items():\n",
    "    print(file_name)\n",
    "    dataframes[path] = pd.read_excel(path)\n",
    "\n",
    "\n",
    "# Mostramos solo el primero para mejor visualización\n",
    "list(dataframes.values())[0]"
   ]
  },
  {
   "source": [
    "# 2. Pregunta a resolver\n",
    "\n",
    "¿Cuál es la caja top de mayor a menor en cantidad de ventas por día? \n",
    "Podemos hacer el top del tamaño que queramos. \n",
    "\n",
    "###  2.1) Primer paso\n",
    "\n",
    "Primero crearemos boxes_by_fyle para contabilizar la cantidad de veces que se repitio una caja en el dia, por documento"
   ],
   "cell_type": "markdown",
   "metadata": {}
  },
  {
   "cell_type": "code",
   "execution_count": 6,
   "metadata": {},
   "outputs": [
    {
     "output_type": "execute_result",
     "data": {
      "text/plain": [
       "(1,\n",
       " {'VT051101': 301,\n",
       "  'VT051102': 773,\n",
       "  'VT051103': 539,\n",
       "  'VT051104': 760,\n",
       "  'VT051105': 533})"
      ]
     },
     "metadata": {},
     "execution_count": 6
    }
   ],
   "source": [
    "boxes_by_file = {}\n",
    "\n",
    "for path, dataframe in dataframes.items():\n",
    "    boxes_entries = dataframe[\"Caja\"].to_numpy()\n",
    "    boxes = list(set(boxes_entries.flatten()))\n",
    "    for box in boxes:\n",
    "        if boxes_by_file.get(box) is None:\n",
    "            boxes_by_file[box] = {}\n",
    "\n",
    "        box_amount = dataframe[\"Caja\"][dataframe[\"Caja\"] == box].count()\n",
    "\n",
    "        boxes_by_file[box].update({routes[path]: box_amount})\n",
    "\n",
    "\n",
    "#Mostramos solo el primero para verificar que funcione y tener una visualizacion mejor\n",
    "list(boxes_by_file.items())[0]"
   ]
  },
  {
   "source": [
    "### 2.2) Segundo paso\n",
    "Ya que la cantidad de ventas por caja es la misma que la cantidad de veces que aparece en el archivo, utilizamos la informacion adquerida anteriormente ocupando boxes_entries"
   ],
   "cell_type": "markdown",
   "metadata": {}
  },
  {
   "cell_type": "code",
   "execution_count": 7,
   "metadata": {},
   "outputs": [
    {
     "output_type": "execute_result",
     "data": {
      "text/plain": [
       "('.\\\\assets\\\\VT051101.xls',\n",
       " {1: 301,\n",
       "  2: 1299,\n",
       "  3: 128,\n",
       "  4: 1790,\n",
       "  5: 1497,\n",
       "  6: 2470,\n",
       "  7: 2390,\n",
       "  9: 2004,\n",
       "  11: 2090,\n",
       "  12: 2284,\n",
       "  13: 2173,\n",
       "  14: 2041,\n",
       "  15: 2027,\n",
       "  16: 1022,\n",
       "  17: 2234,\n",
       "  18: 1585,\n",
       "  20: 1014,\n",
       "  21: 556})"
      ]
     },
     "metadata": {},
     "execution_count": 7
    }
   ],
   "source": [
    "sells_by_file = {}\n",
    "\n",
    "for path, dataframe in dataframes.items():\n",
    "    sells_by_file[path] = {}\n",
    "    boxes_entries = dataframe[\"Caja\"].to_numpy()\n",
    "    boxes = list(set(boxes_entries.flatten()))\n",
    "    for box in boxes:\n",
    "        box_amount = dataframe[\"Caja\"][dataframe[\"Caja\"] == box].count()\n",
    "\n",
    "        sells_by_file[path].update({box: box_amount})\n",
    "\n",
    "\n",
    "#Mostramos solo el primero para verificar que funcione y tener una visualizacion mejor\n",
    "list(sells_by_file.items())[0]"
   ]
  },
  {
   "source": [
    "### 2.3) Tercer paso\n"
   ],
   "cell_type": "markdown",
   "metadata": {}
  },
  {
   "cell_type": "code",
   "execution_count": 8,
   "metadata": {},
   "outputs": [
    {
     "output_type": "execute_result",
     "data": {
      "text/plain": [
       "('.\\\\assets\\\\VT051101.xls',\n",
       " [(6, 2470),\n",
       "  (7, 2390),\n",
       "  (12, 2284),\n",
       "  (17, 2234),\n",
       "  (13, 2173),\n",
       "  (11, 2090),\n",
       "  (14, 2041),\n",
       "  (15, 2027),\n",
       "  (9, 2004),\n",
       "  (4, 1790),\n",
       "  (18, 1585),\n",
       "  (5, 1497),\n",
       "  (2, 1299),\n",
       "  (16, 1022),\n",
       "  (20, 1014),\n",
       "  (21, 556),\n",
       "  (1, 301),\n",
       "  (3, 128)])"
      ]
     },
     "metadata": {},
     "execution_count": 8
    }
   ],
   "source": [
    "top_sells_by_file = {}\n",
    "\n",
    "for path, sells in sells_by_file.items():\n",
    "    sorted_sells = sorted(sells.items(), key=lambda box: box[1], reverse=True)\n",
    "    top_three = sorted_sells[:] # Here can be selected how many top sell boxes are\n",
    "    top_sells_by_file[path] = top_three\n",
    "\n",
    "\n",
    "\n",
    "list(top_sells_by_file.items())[0]"
   ]
  },
  {
   "source": [
    "### 2.4) Cuarto paso\n",
    "Creamos una tabla con los valores entregados en top_sells_by_file y asignamos nombres a los indices de nuestra tabla.\n"
   ],
   "cell_type": "markdown",
   "metadata": {}
  },
  {
   "cell_type": "code",
   "execution_count": 9,
   "metadata": {},
   "outputs": [
    {
     "output_type": "execute_result",
     "data": {
      "text/plain": [
       "['File', 'Box', 'Sells', 'Top in day']"
      ]
     },
     "metadata": {},
     "execution_count": 9
    }
   ],
   "source": [
    "name_file = \"File\"\n",
    "name_box = \"Box\"\n",
    "name_sells = \"Sells\"\n",
    "name_top_in_day = \"Top in day\"\n",
    "\n",
    "top_sells_dict = {name_file: [], name_box: [], name_sells: [], name_top_in_day: []}\n",
    "\n",
    "for path, top_sells in top_sells_by_file.items():\n",
    "    for i, data in enumerate(top_sells, start=1):\n",
    "        box, sell = data\n",
    "        top_sells_dict[name_file].append(routes[path])\n",
    "        top_sells_dict[name_box].append(box)\n",
    "        top_sells_dict[name_sells].append(sell)\n",
    "        top_sells_dict[name_top_in_day].append(i)\n",
    "\n",
    "\n",
    "\n",
    "list(top_sells_dict.keys())"
   ]
  },
  {
   "cell_type": "code",
   "execution_count": 10,
   "metadata": {},
   "outputs": [
    {
     "output_type": "execute_result",
     "data": {
      "text/plain": [
       "        File  Box  Sells  Top in day\n",
       "1   VT051101    7   2390           2\n",
       "19  VT051102   12   2885           2\n",
       "40  VT051103   14   2893           2\n",
       "62  VT051104    7   3004           2\n",
       "84  VT051105   12   2928           2"
      ],
      "text/html": "<div>\n<style scoped>\n    .dataframe tbody tr th:only-of-type {\n        vertical-align: middle;\n    }\n\n    .dataframe tbody tr th {\n        vertical-align: top;\n    }\n\n    .dataframe thead th {\n        text-align: right;\n    }\n</style>\n<table border=\"1\" class=\"dataframe\">\n  <thead>\n    <tr style=\"text-align: right;\">\n      <th></th>\n      <th>File</th>\n      <th>Box</th>\n      <th>Sells</th>\n      <th>Top in day</th>\n    </tr>\n  </thead>\n  <tbody>\n    <tr>\n      <th>1</th>\n      <td>VT051101</td>\n      <td>7</td>\n      <td>2390</td>\n      <td>2</td>\n    </tr>\n    <tr>\n      <th>19</th>\n      <td>VT051102</td>\n      <td>12</td>\n      <td>2885</td>\n      <td>2</td>\n    </tr>\n    <tr>\n      <th>40</th>\n      <td>VT051103</td>\n      <td>14</td>\n      <td>2893</td>\n      <td>2</td>\n    </tr>\n    <tr>\n      <th>62</th>\n      <td>VT051104</td>\n      <td>7</td>\n      <td>3004</td>\n      <td>2</td>\n    </tr>\n    <tr>\n      <th>84</th>\n      <td>VT051105</td>\n      <td>12</td>\n      <td>2928</td>\n      <td>2</td>\n    </tr>\n  </tbody>\n</table>\n</div>"
     },
     "metadata": {},
     "execution_count": 10
    }
   ],
   "source": [
    "top_sells_dataframe = pd.DataFrame(top_sells_dict)\n",
    "\n",
    "top_sells_dataframe[top_sells_dataframe[name_top_in_day].isin([2])]"
   ]
  },
  {
   "source": [
    "# 3. Limpieza de datos\n",
    "Limpiaremos los datos que estan erroneos, por ejemplo; tenemos montos con valores como 0000-354, al igual que la cantidad y gramaje. \n",
    "Eliminaremos esos datos"
   ],
   "cell_type": "markdown",
   "metadata": {}
  },
  {
   "cell_type": "code",
   "execution_count": 11,
   "metadata": {},
   "outputs": [
    {
     "output_type": "execute_result",
     "data": {
      "text/plain": [
       "          Fecha 1    Fecha 2      Hora  Sala  Caja  N_correlativo  N_boleta  \\\n",
       "0      2005-11-01 2005-12-30  09:51:00     9     1              1         0   \n",
       "1      2005-11-01 2005-12-30  09:51:00     9     1              1         0   \n",
       "2      2005-11-01 2005-12-30  09:51:00     9     1              1         0   \n",
       "3      2005-11-01 2005-12-30  09:51:00     9     1              1         0   \n",
       "4      2005-11-01 2005-12-30  09:51:00     9     1              1         0   \n",
       "...           ...        ...       ...   ...   ...            ...       ...   \n",
       "177619 2005-11-05 2005-12-30  22:11:00     9    21            394    266477   \n",
       "177620 2005-11-05 2005-12-30  18:15:00     9    89              1         0   \n",
       "177621 2005-11-05 2005-12-30  18:30:00     9    89              3         0   \n",
       "177622 2005-11-05 2005-12-30  19:56:00     9    89              5         0   \n",
       "177623 2005-11-05 2005-12-30  22:10:00     9    89              7         0   \n",
       "\n",
       "       Ingreso_Egreso         Ean13 Cantidad  Gramaje      Monto  \n",
       "0                   N  780295050254       32        0       3168  \n",
       "1                   N  780295050255       10        0        990  \n",
       "2                   N        550706        0      502        801  \n",
       "3                   N        550706        0      538        859  \n",
       "4                   N  780281000337        3        0        882  \n",
       "...               ...           ...      ...      ...        ...  \n",
       "177619              N        645479        0     2000       1596  \n",
       "177620              S        645588        0     2000  00000-998  \n",
       "177621              S  780494500142  00000-1        0  0000-1129  \n",
       "177622              S  780492300710  00000-1        0  0000-1478  \n",
       "177623              S  780500011635  00000-1        0  00000-354  \n",
       "\n",
       "[177624 rows x 12 columns]"
      ],
      "text/html": "<div>\n<style scoped>\n    .dataframe tbody tr th:only-of-type {\n        vertical-align: middle;\n    }\n\n    .dataframe tbody tr th {\n        vertical-align: top;\n    }\n\n    .dataframe thead th {\n        text-align: right;\n    }\n</style>\n<table border=\"1\" class=\"dataframe\">\n  <thead>\n    <tr style=\"text-align: right;\">\n      <th></th>\n      <th>Fecha 1</th>\n      <th>Fecha 2</th>\n      <th>Hora</th>\n      <th>Sala</th>\n      <th>Caja</th>\n      <th>N_correlativo</th>\n      <th>N_boleta</th>\n      <th>Ingreso_Egreso</th>\n      <th>Ean13</th>\n      <th>Cantidad</th>\n      <th>Gramaje</th>\n      <th>Monto</th>\n    </tr>\n  </thead>\n  <tbody>\n    <tr>\n      <th>0</th>\n      <td>2005-11-01</td>\n      <td>2005-12-30</td>\n      <td>09:51:00</td>\n      <td>9</td>\n      <td>1</td>\n      <td>1</td>\n      <td>0</td>\n      <td>N</td>\n      <td>780295050254</td>\n      <td>32</td>\n      <td>0</td>\n      <td>3168</td>\n    </tr>\n    <tr>\n      <th>1</th>\n      <td>2005-11-01</td>\n      <td>2005-12-30</td>\n      <td>09:51:00</td>\n      <td>9</td>\n      <td>1</td>\n      <td>1</td>\n      <td>0</td>\n      <td>N</td>\n      <td>780295050255</td>\n      <td>10</td>\n      <td>0</td>\n      <td>990</td>\n    </tr>\n    <tr>\n      <th>2</th>\n      <td>2005-11-01</td>\n      <td>2005-12-30</td>\n      <td>09:51:00</td>\n      <td>9</td>\n      <td>1</td>\n      <td>1</td>\n      <td>0</td>\n      <td>N</td>\n      <td>550706</td>\n      <td>0</td>\n      <td>502</td>\n      <td>801</td>\n    </tr>\n    <tr>\n      <th>3</th>\n      <td>2005-11-01</td>\n      <td>2005-12-30</td>\n      <td>09:51:00</td>\n      <td>9</td>\n      <td>1</td>\n      <td>1</td>\n      <td>0</td>\n      <td>N</td>\n      <td>550706</td>\n      <td>0</td>\n      <td>538</td>\n      <td>859</td>\n    </tr>\n    <tr>\n      <th>4</th>\n      <td>2005-11-01</td>\n      <td>2005-12-30</td>\n      <td>09:51:00</td>\n      <td>9</td>\n      <td>1</td>\n      <td>1</td>\n      <td>0</td>\n      <td>N</td>\n      <td>780281000337</td>\n      <td>3</td>\n      <td>0</td>\n      <td>882</td>\n    </tr>\n    <tr>\n      <th>...</th>\n      <td>...</td>\n      <td>...</td>\n      <td>...</td>\n      <td>...</td>\n      <td>...</td>\n      <td>...</td>\n      <td>...</td>\n      <td>...</td>\n      <td>...</td>\n      <td>...</td>\n      <td>...</td>\n      <td>...</td>\n    </tr>\n    <tr>\n      <th>177619</th>\n      <td>2005-11-05</td>\n      <td>2005-12-30</td>\n      <td>22:11:00</td>\n      <td>9</td>\n      <td>21</td>\n      <td>394</td>\n      <td>266477</td>\n      <td>N</td>\n      <td>645479</td>\n      <td>0</td>\n      <td>2000</td>\n      <td>1596</td>\n    </tr>\n    <tr>\n      <th>177620</th>\n      <td>2005-11-05</td>\n      <td>2005-12-30</td>\n      <td>18:15:00</td>\n      <td>9</td>\n      <td>89</td>\n      <td>1</td>\n      <td>0</td>\n      <td>S</td>\n      <td>645588</td>\n      <td>0</td>\n      <td>2000</td>\n      <td>00000-998</td>\n    </tr>\n    <tr>\n      <th>177621</th>\n      <td>2005-11-05</td>\n      <td>2005-12-30</td>\n      <td>18:30:00</td>\n      <td>9</td>\n      <td>89</td>\n      <td>3</td>\n      <td>0</td>\n      <td>S</td>\n      <td>780494500142</td>\n      <td>00000-1</td>\n      <td>0</td>\n      <td>0000-1129</td>\n    </tr>\n    <tr>\n      <th>177622</th>\n      <td>2005-11-05</td>\n      <td>2005-12-30</td>\n      <td>19:56:00</td>\n      <td>9</td>\n      <td>89</td>\n      <td>5</td>\n      <td>0</td>\n      <td>S</td>\n      <td>780492300710</td>\n      <td>00000-1</td>\n      <td>0</td>\n      <td>0000-1478</td>\n    </tr>\n    <tr>\n      <th>177623</th>\n      <td>2005-11-05</td>\n      <td>2005-12-30</td>\n      <td>22:10:00</td>\n      <td>9</td>\n      <td>89</td>\n      <td>7</td>\n      <td>0</td>\n      <td>S</td>\n      <td>780500011635</td>\n      <td>00000-1</td>\n      <td>0</td>\n      <td>00000-354</td>\n    </tr>\n  </tbody>\n</table>\n<p>177624 rows × 12 columns</p>\n</div>"
     },
     "metadata": {},
     "execution_count": 11
    }
   ],
   "source": [
    "consolidated = pd.concat(dataframes.values()).reset_index().drop('index',1)\n",
    "\n",
    "consolidated"
   ]
  },
  {
   "cell_type": "code",
   "execution_count": 12,
   "metadata": {},
   "outputs": [],
   "source": [
    "int_filter = lambda entry: isinstance(entry, int) and entry >= 0\n",
    "cleaned_consolidated = consolidated.copy()"
   ]
  },
  {
   "source": [
    "### Limpieza 1\n",
    "Limpiamos los valores de la columna cantidad"
   ],
   "cell_type": "markdown",
   "metadata": {}
  },
  {
   "cell_type": "code",
   "execution_count": 13,
   "metadata": {},
   "outputs": [
    {
     "output_type": "execute_result",
     "data": {
      "text/plain": [
       "          Fecha 1    Fecha 2      Hora  Sala  Caja  N_correlativo  N_boleta  \\\n",
       "0      2005-11-01 2005-12-30  09:51:00     9     1              1         0   \n",
       "1      2005-11-01 2005-12-30  09:51:00     9     1              1         0   \n",
       "2      2005-11-01 2005-12-30  09:51:00     9     1              1         0   \n",
       "3      2005-11-01 2005-12-30  09:51:00     9     1              1         0   \n",
       "4      2005-11-01 2005-12-30  09:51:00     9     1              1         0   \n",
       "...           ...        ...       ...   ...   ...            ...       ...   \n",
       "177616 2005-11-05 2005-12-30  22:03:00     9    21            392    266475   \n",
       "177617 2005-11-05 2005-12-30  22:04:00     9    21            393    266476   \n",
       "177618 2005-11-05 2005-12-30  22:04:00     9    21            393    266476   \n",
       "177619 2005-11-05 2005-12-30  22:11:00     9    21            394    266477   \n",
       "177620 2005-11-05 2005-12-30  18:15:00     9    89              1         0   \n",
       "\n",
       "       Ingreso_Egreso         Ean13 Cantidad  Gramaje      Monto  \n",
       "0                   N  780295050254       32        0       3168  \n",
       "1                   N  780295050255       10        0        990  \n",
       "2                   N        550706        0      502        801  \n",
       "3                   N        550706        0      538        859  \n",
       "4                   N  780281000337        3        0        882  \n",
       "...               ...           ...      ...      ...        ...  \n",
       "177616              N        645160        0     1000        658  \n",
       "177617              N        645892        1        0        500  \n",
       "177618              N        645892        1        0        500  \n",
       "177619              N        645479        0     2000       1596  \n",
       "177620              S        645588        0     2000  00000-998  \n",
       "\n",
       "[176718 rows x 12 columns]"
      ],
      "text/html": "<div>\n<style scoped>\n    .dataframe tbody tr th:only-of-type {\n        vertical-align: middle;\n    }\n\n    .dataframe tbody tr th {\n        vertical-align: top;\n    }\n\n    .dataframe thead th {\n        text-align: right;\n    }\n</style>\n<table border=\"1\" class=\"dataframe\">\n  <thead>\n    <tr style=\"text-align: right;\">\n      <th></th>\n      <th>Fecha 1</th>\n      <th>Fecha 2</th>\n      <th>Hora</th>\n      <th>Sala</th>\n      <th>Caja</th>\n      <th>N_correlativo</th>\n      <th>N_boleta</th>\n      <th>Ingreso_Egreso</th>\n      <th>Ean13</th>\n      <th>Cantidad</th>\n      <th>Gramaje</th>\n      <th>Monto</th>\n    </tr>\n  </thead>\n  <tbody>\n    <tr>\n      <th>0</th>\n      <td>2005-11-01</td>\n      <td>2005-12-30</td>\n      <td>09:51:00</td>\n      <td>9</td>\n      <td>1</td>\n      <td>1</td>\n      <td>0</td>\n      <td>N</td>\n      <td>780295050254</td>\n      <td>32</td>\n      <td>0</td>\n      <td>3168</td>\n    </tr>\n    <tr>\n      <th>1</th>\n      <td>2005-11-01</td>\n      <td>2005-12-30</td>\n      <td>09:51:00</td>\n      <td>9</td>\n      <td>1</td>\n      <td>1</td>\n      <td>0</td>\n      <td>N</td>\n      <td>780295050255</td>\n      <td>10</td>\n      <td>0</td>\n      <td>990</td>\n    </tr>\n    <tr>\n      <th>2</th>\n      <td>2005-11-01</td>\n      <td>2005-12-30</td>\n      <td>09:51:00</td>\n      <td>9</td>\n      <td>1</td>\n      <td>1</td>\n      <td>0</td>\n      <td>N</td>\n      <td>550706</td>\n      <td>0</td>\n      <td>502</td>\n      <td>801</td>\n    </tr>\n    <tr>\n      <th>3</th>\n      <td>2005-11-01</td>\n      <td>2005-12-30</td>\n      <td>09:51:00</td>\n      <td>9</td>\n      <td>1</td>\n      <td>1</td>\n      <td>0</td>\n      <td>N</td>\n      <td>550706</td>\n      <td>0</td>\n      <td>538</td>\n      <td>859</td>\n    </tr>\n    <tr>\n      <th>4</th>\n      <td>2005-11-01</td>\n      <td>2005-12-30</td>\n      <td>09:51:00</td>\n      <td>9</td>\n      <td>1</td>\n      <td>1</td>\n      <td>0</td>\n      <td>N</td>\n      <td>780281000337</td>\n      <td>3</td>\n      <td>0</td>\n      <td>882</td>\n    </tr>\n    <tr>\n      <th>...</th>\n      <td>...</td>\n      <td>...</td>\n      <td>...</td>\n      <td>...</td>\n      <td>...</td>\n      <td>...</td>\n      <td>...</td>\n      <td>...</td>\n      <td>...</td>\n      <td>...</td>\n      <td>...</td>\n      <td>...</td>\n    </tr>\n    <tr>\n      <th>177616</th>\n      <td>2005-11-05</td>\n      <td>2005-12-30</td>\n      <td>22:03:00</td>\n      <td>9</td>\n      <td>21</td>\n      <td>392</td>\n      <td>266475</td>\n      <td>N</td>\n      <td>645160</td>\n      <td>0</td>\n      <td>1000</td>\n      <td>658</td>\n    </tr>\n    <tr>\n      <th>177617</th>\n      <td>2005-11-05</td>\n      <td>2005-12-30</td>\n      <td>22:04:00</td>\n      <td>9</td>\n      <td>21</td>\n      <td>393</td>\n      <td>266476</td>\n      <td>N</td>\n      <td>645892</td>\n      <td>1</td>\n      <td>0</td>\n      <td>500</td>\n    </tr>\n    <tr>\n      <th>177618</th>\n      <td>2005-11-05</td>\n      <td>2005-12-30</td>\n      <td>22:04:00</td>\n      <td>9</td>\n      <td>21</td>\n      <td>393</td>\n      <td>266476</td>\n      <td>N</td>\n      <td>645892</td>\n      <td>1</td>\n      <td>0</td>\n      <td>500</td>\n    </tr>\n    <tr>\n      <th>177619</th>\n      <td>2005-11-05</td>\n      <td>2005-12-30</td>\n      <td>22:11:00</td>\n      <td>9</td>\n      <td>21</td>\n      <td>394</td>\n      <td>266477</td>\n      <td>N</td>\n      <td>645479</td>\n      <td>0</td>\n      <td>2000</td>\n      <td>1596</td>\n    </tr>\n    <tr>\n      <th>177620</th>\n      <td>2005-11-05</td>\n      <td>2005-12-30</td>\n      <td>18:15:00</td>\n      <td>9</td>\n      <td>89</td>\n      <td>1</td>\n      <td>0</td>\n      <td>S</td>\n      <td>645588</td>\n      <td>0</td>\n      <td>2000</td>\n      <td>00000-998</td>\n    </tr>\n  </tbody>\n</table>\n<p>176718 rows × 12 columns</p>\n</div>"
     },
     "metadata": {},
     "execution_count": 13
    }
   ],
   "source": [
    "cleaned_consolidated = cleaned_consolidated[cleaned_consolidated[\"Cantidad\"].apply(int_filter)]\n",
    "\n",
    "cleaned_consolidated"
   ]
  },
  {
   "source": [
    "### Limpieza 2\n",
    "Limpiamos los valores de la columna monto"
   ],
   "cell_type": "markdown",
   "metadata": {}
  },
  {
   "cell_type": "code",
   "execution_count": 14,
   "metadata": {},
   "outputs": [
    {
     "output_type": "execute_result",
     "data": {
      "text/plain": [
       "          Fecha 1    Fecha 2      Hora  Sala  Caja  N_correlativo  N_boleta  \\\n",
       "0      2005-11-01 2005-12-30  09:51:00     9     1              1         0   \n",
       "1      2005-11-01 2005-12-30  09:51:00     9     1              1         0   \n",
       "2      2005-11-01 2005-12-30  09:51:00     9     1              1         0   \n",
       "3      2005-11-01 2005-12-30  09:51:00     9     1              1         0   \n",
       "4      2005-11-01 2005-12-30  09:51:00     9     1              1         0   \n",
       "...           ...        ...       ...   ...   ...            ...       ...   \n",
       "177615 2005-11-05 2005-12-30  21:58:00     9    21            391    266474   \n",
       "177616 2005-11-05 2005-12-30  22:03:00     9    21            392    266475   \n",
       "177617 2005-11-05 2005-12-30  22:04:00     9    21            393    266476   \n",
       "177618 2005-11-05 2005-12-30  22:04:00     9    21            393    266476   \n",
       "177619 2005-11-05 2005-12-30  22:11:00     9    21            394    266477   \n",
       "\n",
       "       Ingreso_Egreso         Ean13 Cantidad  Gramaje Monto  \n",
       "0                   N  780295050254       32        0  3168  \n",
       "1                   N  780295050255       10        0   990  \n",
       "2                   N        550706        0      502   801  \n",
       "3                   N        550706        0      538   859  \n",
       "4                   N  780281000337        3        0   882  \n",
       "...               ...           ...      ...      ...   ...  \n",
       "177615              N        645158        0     1000  2498  \n",
       "177616              N        645160        0     1000   658  \n",
       "177617              N        645892        1        0   500  \n",
       "177618              N        645892        1        0   500  \n",
       "177619              N        645479        0     2000  1596  \n",
       "\n",
       "[176504 rows x 12 columns]"
      ],
      "text/html": "<div>\n<style scoped>\n    .dataframe tbody tr th:only-of-type {\n        vertical-align: middle;\n    }\n\n    .dataframe tbody tr th {\n        vertical-align: top;\n    }\n\n    .dataframe thead th {\n        text-align: right;\n    }\n</style>\n<table border=\"1\" class=\"dataframe\">\n  <thead>\n    <tr style=\"text-align: right;\">\n      <th></th>\n      <th>Fecha 1</th>\n      <th>Fecha 2</th>\n      <th>Hora</th>\n      <th>Sala</th>\n      <th>Caja</th>\n      <th>N_correlativo</th>\n      <th>N_boleta</th>\n      <th>Ingreso_Egreso</th>\n      <th>Ean13</th>\n      <th>Cantidad</th>\n      <th>Gramaje</th>\n      <th>Monto</th>\n    </tr>\n  </thead>\n  <tbody>\n    <tr>\n      <th>0</th>\n      <td>2005-11-01</td>\n      <td>2005-12-30</td>\n      <td>09:51:00</td>\n      <td>9</td>\n      <td>1</td>\n      <td>1</td>\n      <td>0</td>\n      <td>N</td>\n      <td>780295050254</td>\n      <td>32</td>\n      <td>0</td>\n      <td>3168</td>\n    </tr>\n    <tr>\n      <th>1</th>\n      <td>2005-11-01</td>\n      <td>2005-12-30</td>\n      <td>09:51:00</td>\n      <td>9</td>\n      <td>1</td>\n      <td>1</td>\n      <td>0</td>\n      <td>N</td>\n      <td>780295050255</td>\n      <td>10</td>\n      <td>0</td>\n      <td>990</td>\n    </tr>\n    <tr>\n      <th>2</th>\n      <td>2005-11-01</td>\n      <td>2005-12-30</td>\n      <td>09:51:00</td>\n      <td>9</td>\n      <td>1</td>\n      <td>1</td>\n      <td>0</td>\n      <td>N</td>\n      <td>550706</td>\n      <td>0</td>\n      <td>502</td>\n      <td>801</td>\n    </tr>\n    <tr>\n      <th>3</th>\n      <td>2005-11-01</td>\n      <td>2005-12-30</td>\n      <td>09:51:00</td>\n      <td>9</td>\n      <td>1</td>\n      <td>1</td>\n      <td>0</td>\n      <td>N</td>\n      <td>550706</td>\n      <td>0</td>\n      <td>538</td>\n      <td>859</td>\n    </tr>\n    <tr>\n      <th>4</th>\n      <td>2005-11-01</td>\n      <td>2005-12-30</td>\n      <td>09:51:00</td>\n      <td>9</td>\n      <td>1</td>\n      <td>1</td>\n      <td>0</td>\n      <td>N</td>\n      <td>780281000337</td>\n      <td>3</td>\n      <td>0</td>\n      <td>882</td>\n    </tr>\n    <tr>\n      <th>...</th>\n      <td>...</td>\n      <td>...</td>\n      <td>...</td>\n      <td>...</td>\n      <td>...</td>\n      <td>...</td>\n      <td>...</td>\n      <td>...</td>\n      <td>...</td>\n      <td>...</td>\n      <td>...</td>\n      <td>...</td>\n    </tr>\n    <tr>\n      <th>177615</th>\n      <td>2005-11-05</td>\n      <td>2005-12-30</td>\n      <td>21:58:00</td>\n      <td>9</td>\n      <td>21</td>\n      <td>391</td>\n      <td>266474</td>\n      <td>N</td>\n      <td>645158</td>\n      <td>0</td>\n      <td>1000</td>\n      <td>2498</td>\n    </tr>\n    <tr>\n      <th>177616</th>\n      <td>2005-11-05</td>\n      <td>2005-12-30</td>\n      <td>22:03:00</td>\n      <td>9</td>\n      <td>21</td>\n      <td>392</td>\n      <td>266475</td>\n      <td>N</td>\n      <td>645160</td>\n      <td>0</td>\n      <td>1000</td>\n      <td>658</td>\n    </tr>\n    <tr>\n      <th>177617</th>\n      <td>2005-11-05</td>\n      <td>2005-12-30</td>\n      <td>22:04:00</td>\n      <td>9</td>\n      <td>21</td>\n      <td>393</td>\n      <td>266476</td>\n      <td>N</td>\n      <td>645892</td>\n      <td>1</td>\n      <td>0</td>\n      <td>500</td>\n    </tr>\n    <tr>\n      <th>177618</th>\n      <td>2005-11-05</td>\n      <td>2005-12-30</td>\n      <td>22:04:00</td>\n      <td>9</td>\n      <td>21</td>\n      <td>393</td>\n      <td>266476</td>\n      <td>N</td>\n      <td>645892</td>\n      <td>1</td>\n      <td>0</td>\n      <td>500</td>\n    </tr>\n    <tr>\n      <th>177619</th>\n      <td>2005-11-05</td>\n      <td>2005-12-30</td>\n      <td>22:11:00</td>\n      <td>9</td>\n      <td>21</td>\n      <td>394</td>\n      <td>266477</td>\n      <td>N</td>\n      <td>645479</td>\n      <td>0</td>\n      <td>2000</td>\n      <td>1596</td>\n    </tr>\n  </tbody>\n</table>\n<p>176504 rows × 12 columns</p>\n</div>"
     },
     "metadata": {},
     "execution_count": 14
    }
   ],
   "source": [
    "cleaned_consolidated = cleaned_consolidated[cleaned_consolidated[\"Monto\"].apply(int_filter)]\n",
    "\n",
    "cleaned_consolidated"
   ]
  },
  {
   "source": [
    "### Limpieza 3\n",
    "Limpiamos los valores de la columna gramaje."
   ],
   "cell_type": "markdown",
   "metadata": {}
  },
  {
   "cell_type": "code",
   "execution_count": 15,
   "metadata": {},
   "outputs": [
    {
     "output_type": "execute_result",
     "data": {
      "text/plain": [
       "          Fecha 1    Fecha 2      Hora  Sala  Caja  N_correlativo  N_boleta  \\\n",
       "0      2005-11-01 2005-12-30  09:51:00     9     1              1         0   \n",
       "1      2005-11-01 2005-12-30  09:51:00     9     1              1         0   \n",
       "2      2005-11-01 2005-12-30  09:51:00     9     1              1         0   \n",
       "3      2005-11-01 2005-12-30  09:51:00     9     1              1         0   \n",
       "4      2005-11-01 2005-12-30  09:51:00     9     1              1         0   \n",
       "...           ...        ...       ...   ...   ...            ...       ...   \n",
       "177615 2005-11-05 2005-12-30  21:58:00     9    21            391    266474   \n",
       "177616 2005-11-05 2005-12-30  22:03:00     9    21            392    266475   \n",
       "177617 2005-11-05 2005-12-30  22:04:00     9    21            393    266476   \n",
       "177618 2005-11-05 2005-12-30  22:04:00     9    21            393    266476   \n",
       "177619 2005-11-05 2005-12-30  22:11:00     9    21            394    266477   \n",
       "\n",
       "       Ingreso_Egreso         Ean13 Cantidad  Gramaje Monto  \n",
       "0                   N  780295050254       32        0  3168  \n",
       "1                   N  780295050255       10        0   990  \n",
       "2                   N        550706        0      502   801  \n",
       "3                   N        550706        0      538   859  \n",
       "4                   N  780281000337        3        0   882  \n",
       "...               ...           ...      ...      ...   ...  \n",
       "177615              N        645158        0     1000  2498  \n",
       "177616              N        645160        0     1000   658  \n",
       "177617              N        645892        1        0   500  \n",
       "177618              N        645892        1        0   500  \n",
       "177619              N        645479        0     2000  1596  \n",
       "\n",
       "[176504 rows x 12 columns]"
      ],
      "text/html": "<div>\n<style scoped>\n    .dataframe tbody tr th:only-of-type {\n        vertical-align: middle;\n    }\n\n    .dataframe tbody tr th {\n        vertical-align: top;\n    }\n\n    .dataframe thead th {\n        text-align: right;\n    }\n</style>\n<table border=\"1\" class=\"dataframe\">\n  <thead>\n    <tr style=\"text-align: right;\">\n      <th></th>\n      <th>Fecha 1</th>\n      <th>Fecha 2</th>\n      <th>Hora</th>\n      <th>Sala</th>\n      <th>Caja</th>\n      <th>N_correlativo</th>\n      <th>N_boleta</th>\n      <th>Ingreso_Egreso</th>\n      <th>Ean13</th>\n      <th>Cantidad</th>\n      <th>Gramaje</th>\n      <th>Monto</th>\n    </tr>\n  </thead>\n  <tbody>\n    <tr>\n      <th>0</th>\n      <td>2005-11-01</td>\n      <td>2005-12-30</td>\n      <td>09:51:00</td>\n      <td>9</td>\n      <td>1</td>\n      <td>1</td>\n      <td>0</td>\n      <td>N</td>\n      <td>780295050254</td>\n      <td>32</td>\n      <td>0</td>\n      <td>3168</td>\n    </tr>\n    <tr>\n      <th>1</th>\n      <td>2005-11-01</td>\n      <td>2005-12-30</td>\n      <td>09:51:00</td>\n      <td>9</td>\n      <td>1</td>\n      <td>1</td>\n      <td>0</td>\n      <td>N</td>\n      <td>780295050255</td>\n      <td>10</td>\n      <td>0</td>\n      <td>990</td>\n    </tr>\n    <tr>\n      <th>2</th>\n      <td>2005-11-01</td>\n      <td>2005-12-30</td>\n      <td>09:51:00</td>\n      <td>9</td>\n      <td>1</td>\n      <td>1</td>\n      <td>0</td>\n      <td>N</td>\n      <td>550706</td>\n      <td>0</td>\n      <td>502</td>\n      <td>801</td>\n    </tr>\n    <tr>\n      <th>3</th>\n      <td>2005-11-01</td>\n      <td>2005-12-30</td>\n      <td>09:51:00</td>\n      <td>9</td>\n      <td>1</td>\n      <td>1</td>\n      <td>0</td>\n      <td>N</td>\n      <td>550706</td>\n      <td>0</td>\n      <td>538</td>\n      <td>859</td>\n    </tr>\n    <tr>\n      <th>4</th>\n      <td>2005-11-01</td>\n      <td>2005-12-30</td>\n      <td>09:51:00</td>\n      <td>9</td>\n      <td>1</td>\n      <td>1</td>\n      <td>0</td>\n      <td>N</td>\n      <td>780281000337</td>\n      <td>3</td>\n      <td>0</td>\n      <td>882</td>\n    </tr>\n    <tr>\n      <th>...</th>\n      <td>...</td>\n      <td>...</td>\n      <td>...</td>\n      <td>...</td>\n      <td>...</td>\n      <td>...</td>\n      <td>...</td>\n      <td>...</td>\n      <td>...</td>\n      <td>...</td>\n      <td>...</td>\n      <td>...</td>\n    </tr>\n    <tr>\n      <th>177615</th>\n      <td>2005-11-05</td>\n      <td>2005-12-30</td>\n      <td>21:58:00</td>\n      <td>9</td>\n      <td>21</td>\n      <td>391</td>\n      <td>266474</td>\n      <td>N</td>\n      <td>645158</td>\n      <td>0</td>\n      <td>1000</td>\n      <td>2498</td>\n    </tr>\n    <tr>\n      <th>177616</th>\n      <td>2005-11-05</td>\n      <td>2005-12-30</td>\n      <td>22:03:00</td>\n      <td>9</td>\n      <td>21</td>\n      <td>392</td>\n      <td>266475</td>\n      <td>N</td>\n      <td>645160</td>\n      <td>0</td>\n      <td>1000</td>\n      <td>658</td>\n    </tr>\n    <tr>\n      <th>177617</th>\n      <td>2005-11-05</td>\n      <td>2005-12-30</td>\n      <td>22:04:00</td>\n      <td>9</td>\n      <td>21</td>\n      <td>393</td>\n      <td>266476</td>\n      <td>N</td>\n      <td>645892</td>\n      <td>1</td>\n      <td>0</td>\n      <td>500</td>\n    </tr>\n    <tr>\n      <th>177618</th>\n      <td>2005-11-05</td>\n      <td>2005-12-30</td>\n      <td>22:04:00</td>\n      <td>9</td>\n      <td>21</td>\n      <td>393</td>\n      <td>266476</td>\n      <td>N</td>\n      <td>645892</td>\n      <td>1</td>\n      <td>0</td>\n      <td>500</td>\n    </tr>\n    <tr>\n      <th>177619</th>\n      <td>2005-11-05</td>\n      <td>2005-12-30</td>\n      <td>22:11:00</td>\n      <td>9</td>\n      <td>21</td>\n      <td>394</td>\n      <td>266477</td>\n      <td>N</td>\n      <td>645479</td>\n      <td>0</td>\n      <td>2000</td>\n      <td>1596</td>\n    </tr>\n  </tbody>\n</table>\n<p>176504 rows × 12 columns</p>\n</div>"
     },
     "metadata": {},
     "execution_count": 15
    }
   ],
   "source": [
    "cleaned_consolidated = cleaned_consolidated[cleaned_consolidated[\"Gramaje\"].apply(int_filter)]\n",
    "\n",
    "cleaned_consolidated"
   ]
  },
  {
   "source": [
    "### Limpieza 4\n",
    "Limpiamos los valores de la columna Ean13\n"
   ],
   "cell_type": "markdown",
   "metadata": {}
  },
  {
   "cell_type": "code",
   "execution_count": 16,
   "metadata": {},
   "outputs": [
    {
     "output_type": "execute_result",
     "data": {
      "text/plain": [
       "          Fecha 1    Fecha 2      Hora  Sala  Caja  N_correlativo  N_boleta  \\\n",
       "0      2005-11-01 2005-12-30  09:51:00     9     1              1         0   \n",
       "1      2005-11-01 2005-12-30  09:51:00     9     1              1         0   \n",
       "2      2005-11-01 2005-12-30  09:51:00     9     1              1         0   \n",
       "3      2005-11-01 2005-12-30  09:51:00     9     1              1         0   \n",
       "4      2005-11-01 2005-12-30  09:51:00     9     1              1         0   \n",
       "...           ...        ...       ...   ...   ...            ...       ...   \n",
       "177615 2005-11-05 2005-12-30  21:58:00     9    21            391    266474   \n",
       "177616 2005-11-05 2005-12-30  22:03:00     9    21            392    266475   \n",
       "177617 2005-11-05 2005-12-30  22:04:00     9    21            393    266476   \n",
       "177618 2005-11-05 2005-12-30  22:04:00     9    21            393    266476   \n",
       "177619 2005-11-05 2005-12-30  22:11:00     9    21            394    266477   \n",
       "\n",
       "       Ingreso_Egreso         Ean13 Cantidad  Gramaje Monto  \n",
       "0                   N  780295050254       32        0  3168  \n",
       "1                   N  780295050255       10        0   990  \n",
       "2                   N        550706        0      502   801  \n",
       "3                   N        550706        0      538   859  \n",
       "4                   N  780281000337        3        0   882  \n",
       "...               ...           ...      ...      ...   ...  \n",
       "177615              N        645158        0     1000  2498  \n",
       "177616              N        645160        0     1000   658  \n",
       "177617              N        645892        1        0   500  \n",
       "177618              N        645892        1        0   500  \n",
       "177619              N        645479        0     2000  1596  \n",
       "\n",
       "[176504 rows x 12 columns]"
      ],
      "text/html": "<div>\n<style scoped>\n    .dataframe tbody tr th:only-of-type {\n        vertical-align: middle;\n    }\n\n    .dataframe tbody tr th {\n        vertical-align: top;\n    }\n\n    .dataframe thead th {\n        text-align: right;\n    }\n</style>\n<table border=\"1\" class=\"dataframe\">\n  <thead>\n    <tr style=\"text-align: right;\">\n      <th></th>\n      <th>Fecha 1</th>\n      <th>Fecha 2</th>\n      <th>Hora</th>\n      <th>Sala</th>\n      <th>Caja</th>\n      <th>N_correlativo</th>\n      <th>N_boleta</th>\n      <th>Ingreso_Egreso</th>\n      <th>Ean13</th>\n      <th>Cantidad</th>\n      <th>Gramaje</th>\n      <th>Monto</th>\n    </tr>\n  </thead>\n  <tbody>\n    <tr>\n      <th>0</th>\n      <td>2005-11-01</td>\n      <td>2005-12-30</td>\n      <td>09:51:00</td>\n      <td>9</td>\n      <td>1</td>\n      <td>1</td>\n      <td>0</td>\n      <td>N</td>\n      <td>780295050254</td>\n      <td>32</td>\n      <td>0</td>\n      <td>3168</td>\n    </tr>\n    <tr>\n      <th>1</th>\n      <td>2005-11-01</td>\n      <td>2005-12-30</td>\n      <td>09:51:00</td>\n      <td>9</td>\n      <td>1</td>\n      <td>1</td>\n      <td>0</td>\n      <td>N</td>\n      <td>780295050255</td>\n      <td>10</td>\n      <td>0</td>\n      <td>990</td>\n    </tr>\n    <tr>\n      <th>2</th>\n      <td>2005-11-01</td>\n      <td>2005-12-30</td>\n      <td>09:51:00</td>\n      <td>9</td>\n      <td>1</td>\n      <td>1</td>\n      <td>0</td>\n      <td>N</td>\n      <td>550706</td>\n      <td>0</td>\n      <td>502</td>\n      <td>801</td>\n    </tr>\n    <tr>\n      <th>3</th>\n      <td>2005-11-01</td>\n      <td>2005-12-30</td>\n      <td>09:51:00</td>\n      <td>9</td>\n      <td>1</td>\n      <td>1</td>\n      <td>0</td>\n      <td>N</td>\n      <td>550706</td>\n      <td>0</td>\n      <td>538</td>\n      <td>859</td>\n    </tr>\n    <tr>\n      <th>4</th>\n      <td>2005-11-01</td>\n      <td>2005-12-30</td>\n      <td>09:51:00</td>\n      <td>9</td>\n      <td>1</td>\n      <td>1</td>\n      <td>0</td>\n      <td>N</td>\n      <td>780281000337</td>\n      <td>3</td>\n      <td>0</td>\n      <td>882</td>\n    </tr>\n    <tr>\n      <th>...</th>\n      <td>...</td>\n      <td>...</td>\n      <td>...</td>\n      <td>...</td>\n      <td>...</td>\n      <td>...</td>\n      <td>...</td>\n      <td>...</td>\n      <td>...</td>\n      <td>...</td>\n      <td>...</td>\n      <td>...</td>\n    </tr>\n    <tr>\n      <th>177615</th>\n      <td>2005-11-05</td>\n      <td>2005-12-30</td>\n      <td>21:58:00</td>\n      <td>9</td>\n      <td>21</td>\n      <td>391</td>\n      <td>266474</td>\n      <td>N</td>\n      <td>645158</td>\n      <td>0</td>\n      <td>1000</td>\n      <td>2498</td>\n    </tr>\n    <tr>\n      <th>177616</th>\n      <td>2005-11-05</td>\n      <td>2005-12-30</td>\n      <td>22:03:00</td>\n      <td>9</td>\n      <td>21</td>\n      <td>392</td>\n      <td>266475</td>\n      <td>N</td>\n      <td>645160</td>\n      <td>0</td>\n      <td>1000</td>\n      <td>658</td>\n    </tr>\n    <tr>\n      <th>177617</th>\n      <td>2005-11-05</td>\n      <td>2005-12-30</td>\n      <td>22:04:00</td>\n      <td>9</td>\n      <td>21</td>\n      <td>393</td>\n      <td>266476</td>\n      <td>N</td>\n      <td>645892</td>\n      <td>1</td>\n      <td>0</td>\n      <td>500</td>\n    </tr>\n    <tr>\n      <th>177618</th>\n      <td>2005-11-05</td>\n      <td>2005-12-30</td>\n      <td>22:04:00</td>\n      <td>9</td>\n      <td>21</td>\n      <td>393</td>\n      <td>266476</td>\n      <td>N</td>\n      <td>645892</td>\n      <td>1</td>\n      <td>0</td>\n      <td>500</td>\n    </tr>\n    <tr>\n      <th>177619</th>\n      <td>2005-11-05</td>\n      <td>2005-12-30</td>\n      <td>22:11:00</td>\n      <td>9</td>\n      <td>21</td>\n      <td>394</td>\n      <td>266477</td>\n      <td>N</td>\n      <td>645479</td>\n      <td>0</td>\n      <td>2000</td>\n      <td>1596</td>\n    </tr>\n  </tbody>\n</table>\n<p>176504 rows × 12 columns</p>\n</div>"
     },
     "metadata": {},
     "execution_count": 16
    }
   ],
   "source": [
    "cleaned_consolidated = cleaned_consolidated[cleaned_consolidated[\"Ean13\"].apply(int_filter)]\n",
    "\n",
    "cleaned_consolidated"
   ]
  },
  {
   "source": [
    "#### ¿Cuántos datos fueron limpiados?"
   ],
   "cell_type": "markdown",
   "metadata": {}
  },
  {
   "cell_type": "code",
   "execution_count": 18,
   "metadata": {},
   "outputs": [
    {
     "output_type": "stream",
     "name": "stdout",
     "text": [
      "\nSe limpiaron 1120 datos.\n"
     ]
    }
   ],
   "source": [
    "how_many_cleaned = len(consolidated.index) - len(cleaned_consolidated.index)\n",
    "\n",
    "print('\\nSe limpiaron', how_many_cleaned,'datos.')\n"
   ]
  },
  {
   "cell_type": "code",
   "execution_count": 26,
   "metadata": {},
   "outputs": [
    {
     "output_type": "execute_result",
     "data": {
      "text/plain": [
       "'.\\\\assets\\\\VT051101.xls'"
      ]
     },
     "metadata": {},
     "execution_count": 26
    }
   ],
   "source": [
    "eans_by_file ={}\n",
    "\n",
    "for path, dataframe in dataframes.items():\n",
    "    eans_by_file[path] = {}\n",
    "    eans_entries = dataframe[\"Ean13\"].to_numpy()\n",
    "    eans = list(set(eans_entries.flatten()))\n",
    "    for ean in eans:\n",
    "        ean_amount = dataframe[\"Ean13\"][dataframe[\"Ean13\"] == ean].count()\n",
    "\n",
    "        eans_by_file[path].update({ean: ean_amount})\n",
    "\n",
    "\n",
    "#Mostramos solo el primero para verificar que funcione y tener una visualizacion mejor\n",
    "list(eans_by_file.keys())[0]"
   ]
  },
  {
   "cell_type": "code",
   "execution_count": 32,
   "metadata": {},
   "outputs": [
    {
     "output_type": "execute_result",
     "data": {
      "text/plain": [
       "(780222300160, {'VT051101': 2, 'VT051105': 1})"
      ]
     },
     "metadata": {},
     "execution_count": 32
    }
   ],
   "source": [
    "eans_in_file = {}\n",
    "\n",
    "for path, dataframe in dataframes.items():\n",
    "    ean_entries = dataframe[\"Ean13\"].to_numpy()\n",
    "    eans = list(set(ean_entries.flatten()))\n",
    "    for ean in eans:\n",
    "        if eans_in_file.get(ean) is None:\n",
    "            eans_in_file[ean] = {}\n",
    "\n",
    "        eans_amount = dataframe[\"Ean13\"][dataframe[\"Ean13\"] == ean].count()\n",
    "\n",
    "        eans_in_file[ean].update({routes[path]: eans_amount})\n",
    "\n",
    "\n",
    "#Mostramos solo el primero para verificar que funcione y tener una visualizacion mejor\n",
    "list(eans_in_file.items())[0]"
   ]
  },
  {
   "cell_type": "code",
   "execution_count": 43,
   "metadata": {
    "tags": []
   },
   "outputs": [
    {
     "output_type": "execute_result",
     "data": {
      "text/plain": [
       "(780222300160, 3)"
      ]
     },
     "metadata": {},
     "execution_count": 43
    }
   ],
   "source": [
    "eans_in_total = {}\n",
    "\n",
    "for ean, total_by_day in eans_in_file.items():\n",
    "    eans_in_total[ean] = sum(total_by_day.values())\n",
    "   \n",
    "list(eans_in_total.items())[0]"
   ]
  },
  {
   "cell_type": "code",
   "execution_count": 48,
   "metadata": {},
   "outputs": [
    {
     "output_type": "execute_result",
     "data": {
      "text/plain": [
       "[(720001, 5761), (720005, 2365), (780150500511, 1856)]"
      ]
     },
     "metadata": {},
     "execution_count": 48
    }
   ],
   "source": [
    "sorted_eans = sorted(eans_in_total.items(), key=lambda ean: ean[1], reverse=True)\n",
    "\n",
    "sorted_eans[:3]"
   ]
  },
  {
   "cell_type": "code",
   "execution_count": 63,
   "metadata": {
    "tags": []
   },
   "outputs": [
    {
     "output_type": "execute_result",
     "data": {
      "text/plain": [
       "(780222300160,\n",
       " {1: 0,\n",
       "  2: 0,\n",
       "  3: 0,\n",
       "  4: 0,\n",
       "  5: 0,\n",
       "  6: 1,\n",
       "  7: 1,\n",
       "  9: 0,\n",
       "  11: 0,\n",
       "  12: 0,\n",
       "  13: 0,\n",
       "  14: 0,\n",
       "  15: 0,\n",
       "  16: 0,\n",
       "  17: 0,\n",
       "  18: 0,\n",
       "  20: 1,\n",
       "  21: 0,\n",
       "  8: 0,\n",
       "  10: 0,\n",
       "  89: 0,\n",
       "  19: 0})"
      ]
     },
     "metadata": {},
     "execution_count": 63
    }
   ],
   "source": [
    "box_by_ean = {}\n",
    "\n",
    "for ean in eans_in_file.keys():\n",
    "    box_by_ean[ean] = {}\n",
    "    for box in boxes_by_file.keys():\n",
    "        box_by_ean[ean][box] = consolidated['Caja'][(consolidated['Ean13'] == ean) & (consolidated['Caja'] == box)].count()\n",
    "        \n",
    "\n",
    "\n",
    "list(box_by_ean.items())[0]"
   ]
  },
  {
   "cell_type": "code",
   "execution_count": 68,
   "metadata": {},
   "outputs": [
    {
     "output_type": "execute_result",
     "data": {
      "text/plain": [
       "[[720001, 17, 500],\n",
       " [720001, 20, 476],\n",
       " [720001, 12, 462],\n",
       " [645158, 21, 453],\n",
       " [720001, 14, 401]]"
      ]
     },
     "metadata": {},
     "execution_count": 68
    }
   ],
   "source": [
    "box_by_ean_top = []\n",
    "\n",
    "for ean, total_in_box in box_by_ean.items():\n",
    "    for box, total in total_in_box.items():\n",
    "        box_by_ean_top.append([ean, box, total])\n",
    "    \n",
    "\n",
    "sorter = lambda row: row[2]\n",
    "box_by_ean_top.sort(key=sorter, reverse=True)\n",
    "\n",
    "box_by_ean_top[:5]"
   ]
  },
  {
   "source": [
    "### Resultado 1\n",
    "En la tabla se agrupan productos (código de barra), caja y el resultado de cuantas veces ese producto paso por la caja, ordenandolos de mayor a menor."
   ],
   "cell_type": "markdown",
   "metadata": {}
  },
  {
   "cell_type": "code",
   "execution_count": 69,
   "metadata": {},
   "outputs": [
    {
     "output_type": "execute_result",
     "data": {
      "text/plain": [
       "                   0   1    2\n",
       "0             720001  17  500\n",
       "1             720001  20  476\n",
       "2             720001  12  462\n",
       "3             645158  21  453\n",
       "4             720001  14  401\n",
       "...              ...  ..  ...\n",
       "188381  780583600100  21    0\n",
       "188382  780583600100   8    0\n",
       "188383  780583600100  10    0\n",
       "188384  780583600100  89    0\n",
       "188385  780583600100  19    0\n",
       "\n",
       "[188386 rows x 3 columns]"
      ],
      "text/html": "<div>\n<style scoped>\n    .dataframe tbody tr th:only-of-type {\n        vertical-align: middle;\n    }\n\n    .dataframe tbody tr th {\n        vertical-align: top;\n    }\n\n    .dataframe thead th {\n        text-align: right;\n    }\n</style>\n<table border=\"1\" class=\"dataframe\">\n  <thead>\n    <tr style=\"text-align: right;\">\n      <th></th>\n      <th>0</th>\n      <th>1</th>\n      <th>2</th>\n    </tr>\n  </thead>\n  <tbody>\n    <tr>\n      <th>0</th>\n      <td>720001</td>\n      <td>17</td>\n      <td>500</td>\n    </tr>\n    <tr>\n      <th>1</th>\n      <td>720001</td>\n      <td>20</td>\n      <td>476</td>\n    </tr>\n    <tr>\n      <th>2</th>\n      <td>720001</td>\n      <td>12</td>\n      <td>462</td>\n    </tr>\n    <tr>\n      <th>3</th>\n      <td>645158</td>\n      <td>21</td>\n      <td>453</td>\n    </tr>\n    <tr>\n      <th>4</th>\n      <td>720001</td>\n      <td>14</td>\n      <td>401</td>\n    </tr>\n    <tr>\n      <th>...</th>\n      <td>...</td>\n      <td>...</td>\n      <td>...</td>\n    </tr>\n    <tr>\n      <th>188381</th>\n      <td>780583600100</td>\n      <td>21</td>\n      <td>0</td>\n    </tr>\n    <tr>\n      <th>188382</th>\n      <td>780583600100</td>\n      <td>8</td>\n      <td>0</td>\n    </tr>\n    <tr>\n      <th>188383</th>\n      <td>780583600100</td>\n      <td>10</td>\n      <td>0</td>\n    </tr>\n    <tr>\n      <th>188384</th>\n      <td>780583600100</td>\n      <td>89</td>\n      <td>0</td>\n    </tr>\n    <tr>\n      <th>188385</th>\n      <td>780583600100</td>\n      <td>19</td>\n      <td>0</td>\n    </tr>\n  </tbody>\n</table>\n<p>188386 rows × 3 columns</p>\n</div>"
     },
     "metadata": {},
     "execution_count": 69
    }
   ],
   "source": [
    "df = pd.DataFrame(box_by_ean_top)\n",
    "\n",
    "df"
   ]
  }
 ]
}