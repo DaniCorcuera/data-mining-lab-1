{
 "cells": [
  {
   "cell_type": "markdown",
   "metadata": {},
   "source": [
    "## Laboratorio 1\n",
    "## pandas y retail\n",
    "### 19 de abril\n",
    "### Andrés Ávila\n",
    "\n",
    "#### Queremos estudiar el comportamiento de un supermercado en conco días de operación. Se tienen los csv de las transacciones en la carpeta **retail** en el campus virtual"
   ]
  },
  {
   "cell_type": "markdown",
   "metadata": {},
   "source": [
    "### 1. Pregunta a resolver \n",
    "\n",
    "#### Generar una pregunta que quieran abordar con el análisis de los datos. Algunos ejemplos son\n",
    "#### Manejo de inventarios: productos más demandados por hora, día, semana\n",
    "#### Canasta de productos: ¿hay productos que se compran juntos?\n",
    "#### Ocupación de cajas: ¿son necesarias 21 cajas todos los días? ¿Hay horarios de funcionamiento o están todas abiertas?\n",
    "#### Caracterizaciónde clientes: cuánto compran, a qué hora compran, cuándo compran"
   ]
  },
  {
   "cell_type": "markdown",
   "metadata": {},
   "source": [
    "### 2. Limpieza de Datos\n",
    "\n",
    "#### Fusionar las tablas y revisar los datos perdidos o inconsistencias\n",
    "#### Generar un dataset menor para pruebas del modelo\n",
    "#### Filtrar datos y generar datasets"
   ]
  },
  {
   "cell_type": "markdown",
   "metadata": {},
   "source": [
    "### 3: Clasificación\n",
    "\n",
    "#### Utilizar los tres métodos del curso para encontrar el mejor modelo de clasficación de predicción de cajas"
   ]
  },
  {
   "cell_type": "code",
   "execution_count": null,
   "metadata": {},
   "outputs": [],
   "source": []
  }
 ],
 "metadata": {
  "kernelspec": {
   "name": "python395jvsc74a57bd08e07480568af95872cd38ed762adc96e52289d3bd914c72e3fe0584ac19a7b54",
   "display_name": "Python 3.9.5 64-bit ('resolution-rLnVqdw6-py3.9': poetry)"
  },
  "language_info": {
   "codemirror_mode": {
    "name": "ipython",
    "version": 3
   },
   "file_extension": ".py",
   "mimetype": "text/x-python",
   "name": "python",
   "nbconvert_exporter": "python",
   "pygments_lexer": "ipython3",
   "version": "3.9.5"
  },
  "metadata": {
   "interpreter": {
    "hash": "8e07480568af95872cd38ed762adc96e52289d3bd914c72e3fe0584ac19a7b54"
   }
  }
 },
 "nbformat": 4,
 "nbformat_minor": 2
}